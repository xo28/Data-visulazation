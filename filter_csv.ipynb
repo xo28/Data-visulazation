{
 "cells": [
  {
   "cell_type": "code",
   "execution_count": 164,
   "metadata": {
    "scrolled": true
   },
   "outputs": [
    {
     "name": "stdout",
     "output_type": "stream",
     "text": [
      "[7.9110000000000005, 8.8485, 8.811916666666667, 7.548666666666666, 7.783666666666668, 8.016833333333333, 8.459916666666667, 8.412833333333332, 8.446250000000001, 8.207416666666667, 8.063083333333331, 9.017166666666666, 7.942249999999999, 8.172833333333335, 8.170999999999998, 8.427916666666667, 7.977249999999999, 8.755583333333334, 8.552166666666666, 8.50125, 8.760333333333334, 8.876, 9.030583333333334, 9.471833333333334, 9.0035, 8.481666666666667, 9.530416666666666, 8.97016666666667, 9.079999999999998, 8.553249999999998, 8.934666666666667, 8.751416666666666, 8.912333333333333, 9.275333333333334, 8.867250000000002, 10.141166666666667, 9.75508333333333, 8.951416666666669, 9.486] [1823, 1828, 1833, 1838, 1843, 1848, 1853, 1858, 1863, 1868, 1873, 1878, 1883, 1888, 1893, 1898, 1903, 1908, 1913, 1918, 1923, 1928, 1933, 1938, 1943, 1948, 1953, 1958, 1963, 1968, 1973, 1978, 1983, 1988, 1993, 1998, 2003, 2008, 2013]\n",
      "{'Year': [1823, 1828, 1833, 1838, 1843, 1848, 1853, 1858, 1863, 1868, 1873, 1878, 1883, 1888, 1893, 1898, 1903, 1908, 1913, 1918, 1923, 1928, 1933, 1938, 1943, 1948, 1953, 1958, 1963, 1968, 1973, 1978, 1983, 1988, 1993, 1998, 2003, 2008, 2013], 'Avg_Temperature': [7.9110000000000005, 8.8485, 8.811916666666667, 7.548666666666666, 7.783666666666668, 8.016833333333333, 8.459916666666667, 8.412833333333332, 8.446250000000001, 8.207416666666667, 8.063083333333331, 9.017166666666666, 7.942249999999999, 8.172833333333335, 8.170999999999998, 8.427916666666667, 7.977249999999999, 8.755583333333334, 8.552166666666666, 8.50125, 8.760333333333334, 8.876, 9.030583333333334, 9.471833333333334, 9.0035, 8.481666666666667, 9.530416666666666, 8.97016666666667, 9.079999999999998, 8.553249999999998, 8.934666666666667, 8.751416666666666, 8.912333333333333, 9.275333333333334, 8.867250000000002, 10.141166666666667, 9.75508333333333, 8.951416666666669, 9.486]}\n"
     ]
    }
   ],
   "source": [
    "import pandas as pd\n",
    "data = pd.read_csv(\"GlobalLandTemperaturesByCountry.csv\")\n",
    "dictionary = {}\n",
    "temp_array=[]\n",
    "country_array=[]\n",
    "year_array=[]\n",
    "\n",
    "newlist=[]\n",
    "\n",
    "x = len(data.index)\n",
    "\n",
    "for x in range(0, x):\n",
    "    if data[\"Country\"][x] == \"United States\":\n",
    "        newlist.append(data.loc[x])\n",
    "united_states = pd.DataFrame(newlist)\n",
    "\n",
    "\n",
    "y = len(united_states.index)\n",
    "year_list=[]\n",
    "avg_list=[]\n",
    "year = 1823\n",
    "the_sum = 0\n",
    "newyear = 3\n",
    "\n",
    "for t in range(554880, 554880+y):\n",
    "    if (int(united_states[\"dt\"][t][0:4]) == year) and year!=2013:\n",
    "        for x in range(0,12):\n",
    "            the_sum += float(united_states[\"AverageTemperature\"][t+x])\n",
    "        avg=the_sum/12\n",
    "        avg_list.append(avg)\n",
    "        year_list.append(year)\n",
    "        year+=5\n",
    "        the_sum=0\n",
    "        \n",
    "    elif year==2013:\n",
    "        ## Only counted up until September\n",
    "        for x in range(0,10):\n",
    "            the_sum += float(united_states[\"AverageTemperature\"][t+x])\n",
    "        avg=the_sum/12\n",
    "        avg_list.append(avg)\n",
    "        year_list.append(year)\n",
    "        year+=5\n",
    "        \n",
    "\n",
    "print(avg_list,year_list)\n",
    "\n",
    "dictionary['Year'] = year_list\n",
    "dictionary['Avg_Temperature'] = avg_list\n",
    "print(dictionary)\n",
    "final = pd.DataFrame.from_dict(dictionary)\n",
    "final.to_csv('USA.csv', header='true')"
   ]
  },
  {
   "cell_type": "markdown",
   "metadata": {},
   "source": [
    "- Sum all of the values for every ten years (starting at 1823) year in a certain country\n",
    "    - US\n",
    "    - China\n",
    "    - India\n",
    "    - Australia\n",
    "    - Brazil\n",
    "    - UK\n",
    "    - Saudi Arabia \n",
    "    - South Africa\n",
    "    - Nigeria\n",
    "    - Costa Rica\n",
    "- Divide by the number of observations for that year to get yearly average\n",
    "- Insert a new row into the csv for average yearly temp for a country"
   ]
  },
  {
   "cell_type": "code",
   "execution_count": null,
   "metadata": {
    "collapsed": true
   },
   "outputs": [],
   "source": [
    "    \n",
    "        temp_array.append(data['AverageTemperature'][value])\n",
    "dictionary['Avg_Temperature'] = temp_array\n",
    "print(dictionary)\n",
    "final = pd.DataFrame.from_dict(dictionary)\n",
    "print(final)\n",
    "final.to_csv('Test.csv', header='true')\n"
   ]
  },
  {
   "cell_type": "code",
   "execution_count": 155,
   "metadata": {},
   "outputs": [
    {
     "ename": "IndentationError",
     "evalue": "unexpected indent (<ipython-input-155-a7d52f144d9d>, line 2)",
     "output_type": "error",
     "traceback": [
      "\u001b[0;36m  File \u001b[0;32m\"<ipython-input-155-a7d52f144d9d>\"\u001b[0;36m, line \u001b[0;32m2\u001b[0m\n\u001b[0;31m    if data[\"Country\"][value] = \"China\":\u001b[0m\n\u001b[0m    ^\u001b[0m\n\u001b[0;31mIndentationError\u001b[0m\u001b[0;31m:\u001b[0m unexpected indent\n"
     ]
    }
   ],
   "source": [
    "     \n",
    "    if data[\"Country\"][value] = \"China\":\n",
    "        temp_array.append(data[\"AverageTemperature\"][value])\n",
    "        country_array.append(\"China\")\n",
    "        \n",
    "    if data[\"Country\"][value] = \"India\":\n",
    "        temp_array.append(data[\"AverageTemperature\"][value])\n",
    "        country_array.append(\"India\")\n",
    "        \n",
    "    if data[\"Country\"][value] = \"Australia\":\n",
    "        temp_array.append(data[\"AverageTemperature\"][value])\n",
    "        country_array.append(\"Australia\")\n",
    "        \n",
    "    if data[\"Country\"][value] = \"Brazil\":\n",
    "        temp_array.append(data[\"AverageTemperature\"][value])\n",
    "        country_array.append(\"Brazil\")\n",
    "        \n",
    "    if data[\"Country\"][value] = \"United Kingdom (Europe)\":\n",
    "        temp_array.append(data[\"AverageTemperature\"][value])\n",
    "        country_array.append(\"United Kingdom (Europe)\")\n",
    "        \n",
    "    if data[\"Country\"][value] = \"Saudi Arabia\":\n",
    "        temp_array.append(data[\"AverageTemperature\"][value])\n",
    "        country_array.append(\"Saudi Arabia\")\n",
    "        \n",
    "    if data[\"Country\"][value] = \"South Africa\":\n",
    "        temp_array.append(data[\"AverageTemperature\"][value])\n",
    "        country_array.append(\"South Africa\")\n",
    "        \n",
    "    if data[\"Country\"][value] = \"Nigeria\":\n",
    "        temp_array.append(data[\"AverageTemperature\"][value])\n",
    "        country_array.append(\"Nigeria\")\n",
    "        \n",
    "    if data[\"Country\"][value] = \"Costa Rica\":\n",
    "        temp_array.append(data[\"AverageTemperature\"][value])\n",
    "        country_array.append(\"Costa Rica\")\n",
    "\n"
   ]
  },
  {
   "cell_type": "code",
   "execution_count": null,
   "metadata": {
    "collapsed": true
   },
   "outputs": [],
   "source": [
    "## Date format changes at 1903: new dates are of length 6-7\n",
    "    if len(str(united_states[\"dt\"][t]))<=7:\n",
    "        if (int(united_states[\"dt\"][t][4:]) == newyear) and (newyear < 100):\n",
    "            print('hi')\n",
    "            for x in range(0,12):\n",
    "                print(united_states[\"dt\"][t+x-1], united_states[\"AverageTemperature\"][t+x-1])\n",
    "            the_sum += float(united_states[\"AverageTemperature\"][t+x-1])\n",
    "            avg=the_sum/12\n",
    "            dates_list.append(avg)\n",
    "            newyear+=5\n",
    "            the_sum=0\n",
    "            \n",
    "    if (newyear > 100):\n",
    "    ## Start anew at 2003\n",
    "        newestyear = 3\n",
    "        if (int(united_states[\"dt\"][t][4:])) == newestyear and (newestyear < 13):\n",
    "            for x in range(0,12):\n",
    "                the_sum += float(united_states[\"AverageTemperature\"][t+x-1])\n",
    "            avg = the_sum/12\n",
    "            dates_list.append(avg)\n",
    "            newestyear+=5\n",
    "            the_sum=0\n",
    "        elif newestyear==13:\n",
    "            for x in range(0,10):\n",
    "                the_sum += float(united_states[\"AverageTemperature\"][t+x-1])\n",
    "            avg = the_sum/12\n",
    "            dates_list.append(avg)\n"
   ]
  }
 ],
 "metadata": {
  "kernelspec": {
   "display_name": "Python 3",
   "language": "python",
   "name": "python3"
  },
  "language_info": {
   "codemirror_mode": {
    "name": "ipython",
    "version": 3
   },
   "file_extension": ".py",
   "mimetype": "text/x-python",
   "name": "python",
   "nbconvert_exporter": "python",
   "pygments_lexer": "ipython3",
   "version": "3.6.1"
  }
 },
 "nbformat": 4,
 "nbformat_minor": 2
}
